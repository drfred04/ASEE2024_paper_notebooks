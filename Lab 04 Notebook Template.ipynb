{
 "cells": [
  {
   "cell_type": "markdown",
   "id": "b2d016d3",
   "metadata": {},
   "source": [
    "# Lab 04\n",
    "Goals: \n",
    "1)\tCharacterize the exponential response to step input voltage changes in RC and RL circuits.\n",
    "2)\tUnderstand the meaning of a “characteristic time”: τ = RC or τ = L/R.\n",
    "3)\tUnderstand two rules of thumb:  \n",
    "    a)\tOne cannot instantaneously change the voltage across a capacitor.  \n",
    "    b)\tOne cannot instantaneously change the current through an inductor. \n"
   ]
  },
  {
   "attachments": {
    "Fig-02.jpg": {
     "image/jpeg": "[encoded data removed]"
    }
   },
   "cell_type": "markdown",
   "id": "30874665",
   "metadata": {},
   "source": [
    "# 4.2 Preliminary Lab Questions\n",
    "The work in this section must be completed and signed off by an instructor before you start working\n",
    "on the lab. Do this work in your lab book.\n",
    "\n",
    "![Fig-02.jpg](attachment:Fig-02.jpg)"
   ]
  },
  {
   "cell_type": "markdown",
   "id": "8fa6e067",
   "metadata": {},
   "source": [
    "# 1\n",
    "What are the characteristic time constants of the circuits shown above? Take $R = 4.7 k\\Omega$, $C = 0.1 \\mu F$, $L = 1 mH$."
   ]
  },
  {
   "cell_type": "markdown",
   "id": "f3acb764",
   "metadata": {},
   "source": [
    "'''\n",
    "    Answer question 1 here. Be sure to show your work.\n",
    "'''\n"
   ]
  },
  {
   "cell_type": "markdown",
   "id": "7bfddb34",
   "metadata": {},
   "source": [
    "# 2\n",
    "Of what order are the differential equations that govern the behavior of the above circuits? (The order of a differential equation is the order of the highest derivative in the equation, e.g. $d^2i/dt^2$ is second order.)"
   ]
  },
  {
   "cell_type": "markdown",
   "id": "59a81c70",
   "metadata": {},
   "source": [
    "'''\n",
    "    Add your answer to question 2 here.\n",
    "'''\n",
    "\n"
   ]
  },
  {
   "cell_type": "markdown",
   "id": "c3314900",
   "metadata": {},
   "source": [
    "# 3\n",
    "After a long time, which element ($C$ or $R$), in the circuit on the left, will have a significant voltage across it? In the circuit on the right ($L$ or $R$)? What about at the instant the switches are closed?"
   ]
  },
  {
   "cell_type": "markdown",
   "id": "640bfc09",
   "metadata": {},
   "source": [
    "'''\n",
    "    Add your answer to question 3 here.\n",
    "'''\n",
    "\n"
   ]
  },
  {
   "cell_type": "code",
   "execution_count": null,
   "id": "acdf303b",
   "metadata": {},
   "outputs": [],
   "source": []
  }
 ],
 "metadata": {
  "kernelspec": {
   "display_name": "Python 3 (ipykernel)",
   "language": "python",
   "name": "python3"
  },
  "language_info": {
   "codemirror_mode": {
    "name": "ipython",
    "version": 3
   },
   "file_extension": ".py",
   "mimetype": "text/x-python",
   "name": "python",
   "nbconvert_exporter": "python",
   "pygments_lexer": "ipython3",
   "version": "3.9.6"
  }
 },
 "nbformat": 4,
 "nbformat_minor": 5
}
