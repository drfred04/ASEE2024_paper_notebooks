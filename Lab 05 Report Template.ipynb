{
 "cells": [
  {
   "cell_type": "markdown",
   "id": "d6271101",
   "metadata": {},
   "source": [
    "# Lab 05 Report Template"
   ]
  },
  {
   "cell_type": "markdown",
   "id": "7758633b",
   "metadata": {},
   "source": [
    "## Question 5.1 \n",
    "Should you be using the scope’s AC- or DC-coupling input mode for this measurement? "
   ]
  },
  {
   "cell_type": "markdown",
   "id": "c61414f8",
   "metadata": {},
   "source": [
    "## Question 5.2 \n",
    "Determine the frequency at which $|v_C (f)| = |v_R (f)|$. Compare your measured value to the calculated value. "
   ]
  },
  {
   "cell_type": "markdown",
   "id": "ff830424",
   "metadata": {},
   "source": [
    "## Question 5.3 \n",
    "Over what range of frequencies do you expect the circuit to integrate or differentiate the input signal? To figure this out, you can use the analysis in the Lab 4 write-up or use the frequency domain logic given in Section 3.4 of the textbook. "
   ]
  },
  {
   "cell_type": "markdown",
   "id": "02b57692",
   "metadata": {},
   "source": [
    "## Question 5.4 \n",
    "In the low-frequency limit, what do we expect the gain of the $RL$ low-pass filter to be? Be sure to include the effect of $R_L$. "
   ]
  },
  {
   "cell_type": "markdown",
   "id": "bda10e6a",
   "metadata": {},
   "source": [
    "## Question 5.5 \n",
    "In the high-frequency limit, what do we expect the gain of the $RL$ high-pass filter to be? Be sure to include the effect of $R_L$. "
   ]
  },
  {
   "cell_type": "markdown",
   "id": "bdb45352",
   "metadata": {},
   "source": [
    "## Question 5.6 \n",
    "Which circuit, $RL$ or $RC$, works better as a low-pass filter? Why? \n"
   ]
  },
  {
   "cell_type": "markdown",
   "id": "add8c592",
   "metadata": {},
   "source": []
  },
  {
   "cell_type": "code",
   "execution_count": null,
   "id": "d3005968",
   "metadata": {},
   "outputs": [],
   "source": []
  }
 ],
 "metadata": {
  "kernelspec": {
   "display_name": "Python 3 (ipykernel)",
   "language": "python",
   "name": "python3"
  },
  "language_info": {
   "codemirror_mode": {
    "name": "ipython",
    "version": 3
   },
   "file_extension": ".py",
   "mimetype": "text/x-python",
   "name": "python",
   "nbconvert_exporter": "python",
   "pygments_lexer": "ipython3",
   "version": "3.9.6"
  }
 },
 "nbformat": 4,
 "nbformat_minor": 5
}
