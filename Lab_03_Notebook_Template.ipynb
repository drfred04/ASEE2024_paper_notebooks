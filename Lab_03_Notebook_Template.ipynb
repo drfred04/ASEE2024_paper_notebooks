{
 "cells": [
  {
   "cell_type": "markdown",
   "id": "1d8e8972",
   "metadata": {},
   "source": [
    "# Lab 3 lab notebook\n",
    "We will revisit the oscilloscope and function generator. Using what we know from the 2nd lab, we will work with software to control both instruments remotely. This will allow for better documentation of measurements. It also provides a way to remove some of the tedium of a large measurement."
   ]
  },
  {
   "cell_type": "code",
   "execution_count": 1,
   "id": "e2185a94",
   "metadata": {},
   "outputs": [],
   "source": [
    "# This cell will import packages that we will need to run the scopes and collect and analyze data.\n",
    "\n",
    "import pyvisa as visa  # This is python package that controls the usb communications\n",
    "import numpy as np # This package will allow you to build arrays of data points \n",
    "import time # This is sometimes necessary to pause the code to allow a command to complete on one of the instruments.\n",
    "import matplotlib.pyplot as plt # This allows you to plot data on graphs\n",
    "from scale_scope import *"
   ]
  },
  {
   "cell_type": "markdown",
   "id": "7657060a",
   "metadata": {},
   "source": [
    "# Lab 03 Pre-Question\n",
    "The work in this section must be completed and signed off by an instructor before you start working\n",
    "on the lab. Do this work in your lab book."
   ]
  },
  {
   "cell_type": "markdown",
   "id": "f0ff5c83",
   "metadata": {},
   "source": [
    "## 3.2.1\n",
    "Determine the frequencies that you should use to produce a Bode plot of the frequency responce for a system from 1Hz to 3 MHz if there will be 10 points per decade. Use the cell following this one to complete the calculation and display the results."
   ]
  },
  {
   "cell_type": "code",
   "execution_count": 2,
   "id": "709252d8",
   "metadata": {},
   "outputs": [
    {
     "data": {
      "text/plain": [
       "'\\n    Question 1 calculations and displays\\n'"
      ]
     },
     "execution_count": 2,
     "metadata": {},
     "output_type": "execute_result"
    }
   ],
   "source": [
    "'''\n",
    "    Question 1 calculations and displays\n",
    "'''\n",
    "\n"
   ]
  },
  {
   "cell_type": "markdown",
   "id": "4af7d836",
   "metadata": {},
   "source": [
    "# 3.3.4\n",
    "Frequency Responce of an R2R Ladder"
   ]
  },
  {
   "cell_type": "code",
   "execution_count": 3,
   "id": "5bf567ee",
   "metadata": {},
   "outputs": [
    {
     "name": "stdout",
     "output_type": "stream",
     "text": [
      "A list of all instruments attached to the USB ports\n",
      "('USB0::6833::1230::DS1ZC230300144::0::INSTR', 'USB0::6833::1602::DG1ZA224203424::0::INSTR')\n",
      " \n",
      "A list of the Rigol scopes attached to the USB ports\n",
      "['USB0::6833::1230::DS1ZC230300144::0::INSTR']\n",
      "A list of the Rigol function generators attached to the USB ports\n",
      "['USB0::6833::1602::DG1ZA224203424::0::INSTR']\n"
     ]
    }
   ],
   "source": [
    "# This cell will initialize the control of the usb ports and indentify any scopes or function generators that\n",
    "# are attached.\n",
    "\n",
    "rm = visa.ResourceManager('@py') #use pyvisa as the backend and define a resource manager\n",
    "instruments = rm.list_resources() # get a list of instrument attached to the usb ports\n",
    "\n",
    "# print out all of the instruments attached\n",
    "print('A list of all instruments attached to the USB ports')\n",
    "print(instruments)\n",
    "print(' ')\n",
    "\n",
    "# filter this list for Rigol scopes\n",
    "Rigol_scopes = list(filter(lambda x: 'DS1' in x, instruments)) \n",
    "\n",
    "# filter this list for Rigol funtion generators\n",
    "Rigol_funcgen = list(filter(lambda x: 'DG1' in x, instruments)) \n",
    "\n",
    "# print out the list of Rigol scopes\n",
    "print('A list of the Rigol scopes attached to the USB ports')\n",
    "print(Rigol_scopes)\n",
    "\n",
    "# print out the list of Rigol funtion generators\n",
    "print('A list of the Rigol function generators attached to the USB ports')\n",
    "print(Rigol_funcgen)"
   ]
  },
  {
   "cell_type": "code",
   "execution_count": 4,
   "id": "591674b6",
   "metadata": {},
   "outputs": [
    {
     "name": "stdout",
     "output_type": "stream",
     "text": [
      "The number of scopes is:  1\n",
      "The number of fucntion generators is:  1\n",
      "scope found\n",
      "function generator found\n"
     ]
    }
   ],
   "source": [
    "'''\n",
    " This cell will initialize the scopes and function generators so that we can pass commands and \n",
    " receive data back from them. Each instrument is initially set to its factory settings as a precaution. \n",
    " We will later put in the specific settings that we want to use for our measurements. By starting from \n",
    " the factory settings, we can be sure that there are no settings left over from a previous user.\n",
    "'''\n",
    "print(\"The number of scopes is: \", np.shape(Rigol_scopes)[0])\n",
    "print(\"The number of fucntion generators is: \", np.shape(Rigol_funcgen)[0])\n",
    "\n",
    "# Initialize the scope\n",
    "for i in range(np.shape(Rigol_scopes)[0]):\n",
    "    scope = rm.open_resource(Rigol_scopes[i], timeout=100000, chunk_size=1024000)\n",
    "    scope.write(\":*RST\") # This is the command to set the instrument to factory default settings\n",
    "    print(\"scope found\")\n",
    "\n",
    "# Initialize the fucntion generator\n",
    "for i in range(np.shape(Rigol_funcgen)[0]):\n",
    "    funcgen = rm.open_resource(Rigol_funcgen[i], timeout=100000, chunk_size=1024000)\n",
    "    funcgen.write(\":*RST\") # This is the command to set the instrument to factory default settings\n",
    "    print(\"function generator found\")\n",
    "\n",
    "# give each instrument some time to reset before you go in and start changing parameters\n",
    "time.sleep(5) # Wait 5 seconds to continue"
   ]
  },
  {
   "cell_type": "code",
   "execution_count": 5,
   "id": "236ecde1",
   "metadata": {},
   "outputs": [
    {
     "data": {
      "text/plain": [
       "22"
      ]
     },
     "execution_count": 5,
     "metadata": {},
     "output_type": "execute_result"
    }
   ],
   "source": [
    "'''\n",
    " This cell will set the scope up to make the measurements that we are interested in. It will set the channel\n",
    " we are looking at as well as the timebase and scale of the channel.\n",
    "\n",
    " We need to use both channels 1 and 2. \n",
    "'''\n",
    "\n",
    "# Channel 1 will be setup with the following:\n",
    "scope.write(\":CHAN1:DISP ON\") # Turn on the display of channel 1\n",
    "scope.write(\":CHAN1:PROB 1\") # Set the probe to a x1 probe\n",
    "scope.write(\":CHAN1:COUP DC\") # set the couplong on channel 1 to DC\n",
    "scope.write(\":CHAN1:SCAL 0.2\") # Set the scale to 0.2 V per division (square)\n",
    "\n",
    "# Channel 2 will be setup with the following:\n",
    "scope.write(\":CHAN2:DISP ON\") # Turn on the display of channel 2\n",
    "scope.write(\":CHAN2:PROB 1\") # Set the probe to a x1 probe\n",
    "scope.write(\":CHAN2:COUP DC\") # Set the coupling on channel 2 to DC\n",
    "scope.write(\":CHAN2:SCAL 2.0\") # Set the scale to 2.0 V per division (square)\n",
    " \n",
    "# Set the specifics for triggering a measurement\n",
    "# The measurement will use the signal coming in on channel 2 to trigger the scope\n",
    "scope.write(\":TRIG:EDG:SOUR CHAN2\") \n",
    "# A measurement is triggered when the signal hits 1.0 V\n",
    "scope.write(\":TRIG:EDG:LEV 1.0\") \n",
    "# set the sweep to normal so the image is stable\n",
    "scope.write(\":TRIG:SWE NORM\") \n",
    "\n",
    "# Set the horizontal scale for the measurement to 1 ms/division\n",
    "scope.write(\":TIM:MAIN:SCAL 0.001\")"
   ]
  },
  {
   "cell_type": "code",
   "execution_count": 6,
   "id": "ede19c75",
   "metadata": {},
   "outputs": [
    {
     "data": {
      "text/plain": [
       "19"
      ]
     },
     "execution_count": 6,
     "metadata": {},
     "output_type": "execute_result"
    }
   ],
   "source": [
    "# This cell will set the parameters for the output signal produced by the function generator.\n",
    "\n",
    "# Set the output level of channel 1 to 10 V peak-to-peak (Vpp)\n",
    "funcgen.write(\":SOUR1:VOLT 10\") \n",
    "\n",
    "# Set the offset to +1.0 V\n",
    "funcgen.write(\":SOUR1:VOLT:OFFS 0.0\") \n",
    "\n",
    "# Turn on the output of channel 1 (Don't forget this step or nothing will happen)\n",
    "funcgen.write(\":OUTP1 ON\") \n",
    "\n",
    "# Set the frequency of the signal to 1500 Hz\n",
    "funcgen.write(\":SOUR1:FREQ 1.5E3\") "
   ]
  },
  {
   "cell_type": "code",
   "execution_count": 22,
   "id": "7aacdb90",
   "metadata": {},
   "outputs": [
    {
     "name": "stdout",
     "output_type": "stream",
     "text": [
      "65\n",
      "0, 1.0e+00, 0.64, 10.08, 5.00e-03\n",
      "1, 1.3e+00, 0.64, 10.08, -6.00e-03\n",
      "2, 1.6e+00, 0.64, 10.08, 2.00e-03\n",
      "3, 2.0e+00, 0.64, 10.08, 2.00e-03\n",
      "4, 2.5e+00, 0.64, 10.08, 1.00e-03\n",
      "5, 3.2e+00, 0.64, 10.08, 1.00e-03\n",
      "6, 4.0e+00, 0.64, 10.08, 1.00e-03\n",
      "7, 5.0e+00, 0.64, 10.16, 5.00e-04\n",
      "8, 6.3e+00, 0.64, 10.08, -1.50e-03\n",
      "9, 7.9e+00, 0.64, 10.16, 5.00e-04\n",
      "10, 1.0e+01, 0.64, 10.08, -6.00e-04\n",
      "11, 1.3e+01, 0.64, 10.08, -6.00e-04\n",
      "12, 1.6e+01, 0.64, 10.08, 2.00e-04\n",
      "13, 2.0e+01, 0.64, 10.08, 2.00e-04\n",
      "14, 2.5e+01, 0.64, 10.16, 1.00e-04\n",
      "15, 3.2e+01, 0.64, 10.16, 1.00e-04\n",
      "16, 4.0e+01, 0.65, 10.16, 1.00e-04\n",
      "17, 5.0e+01, 0.64, 10.16, 5.00e-05\n",
      "18, 6.3e+01, 0.65, 10.24, 5.00e-05\n",
      "19, 7.9e+01, 0.64, 10.24, 5.00e-05\n",
      "20, 1.0e+02, 0.64, 10.24, 5.00e-05\n",
      "21, 1.3e+02, 0.64, 10.16, 2.00e-05\n",
      "22, 1.6e+02, 0.64, 10.16, 2.00e-05\n",
      "23, 2.0e+02, 0.64, 10.16, 2.00e-05\n",
      "24, 2.5e+02, 0.63, 10.16, 3.00e-05\n",
      "25, 3.2e+02, 0.64, 10.16, 1.00e-05\n",
      "26, 4.0e+02, 0.64, 10.16, 1.00e-05\n",
      "27, 5.0e+02, 0.64, 10.32, 5.00e-06\n",
      "28, 6.3e+02, 0.64, 10.32, 5.00e-06\n",
      "29, 7.9e+02, 0.64, 10.32, 5.00e-06\n",
      "30, 1.0e+03, 0.64, 10.32, 5.00e-06\n",
      "31, 1.3e+03, 0.64, 10.32, 6.00e-06\n",
      "32, 1.6e+03, 0.64, 10.32, 6.00e-06\n",
      "33, 2.0e+03, 0.64, 10.32, 2.00e-06\n",
      "34, 2.5e+03, 0.63, 10.32, 3.00e-06\n",
      "35, 3.2e+03, 0.64, 10.32, 3.00e-06\n",
      "36, 4.0e+03, 0.63, 10.24, 1.00e-06\n",
      "37, 5.0e+03, 0.64, 10.32, 2.50e-06\n",
      "38, 6.3e+03, 0.62, 10.32, 5.00e-07\n",
      "39, 7.9e+03, 0.62, 10.32, 1.50e-06\n",
      "40, 1.0e+04, 0.62, 10.24, 6.00e-07\n",
      "41, 1.3e+04, 0.63, 10.32, 1.40e-06\n",
      "42, 1.6e+04, 0.62, 10.24, 6.00e-07\n",
      "43, 2.0e+04, 0.63, 10.16, 6.00e-07\n",
      "44, 2.5e+04, 0.62, 10.16, 7.00e-07\n",
      "45, 3.2e+04, 0.62, 10.16, 5.00e-07\n",
      "46, 4.0e+04, 0.62, 10.16, 7.00e-07\n",
      "47, 5.0e+04, 0.62, 10.16, 5.50e-07\n",
      "48, 6.3e+04, 0.61, 10.16, 5.50e-07\n",
      "49, 7.9e+04, 0.60, 10.16, 5.50e-07\n",
      "50, 1.0e+05, 0.59, 10.16, 5.50e-07\n",
      "51, 1.3e+05, 0.58, 10.40, 5.00e-07\n",
      "52, 1.6e+05, 0.55, 10.32, 4.60e-07\n",
      "53, 2.0e+05, 0.52, 10.40, 4.20e-07\n",
      "54, 2.5e+05, 0.47, 10.32, 4.10e-07\n",
      "55, 3.2e+05, 0.42, 10.24, 3.80e-07\n",
      "56, 4.0e+05, 0.37, 10.40, 3.30e-07\n",
      "57, 5.0e+05, 0.31, 10.24, 2.75e-07\n",
      "58, 6.3e+05, 0.26, 10.24, 2.30e-07\n",
      "59, 7.9e+05, 0.22, 10.24, 1.85e-07\n",
      "60, 1.0e+06, 0.18, 10.24, 1.50e-07\n",
      "61, 1.3e+06, 0.15, 10.24, 1.22e-07\n",
      "62, 1.6e+06, 0.12, 10.24, 9.60e-08\n",
      "63, 2.0e+06, 0.11, 10.40, 6.40e-08\n",
      "64, 2.5e+06, 0.09, 10.24, 4.40e-08\n"
     ]
    }
   ],
   "source": [
    "# This cell will make record measurements based on the signal produced by the fucntion generator.\n",
    "\n",
    "# Set the scope to display the 3 different measurments, Vmax, Vmin, frequency on the screen. This\n",
    "# does not record the measurement. It allows you to watch how things are going and possibly\n",
    "# spot any issues that may be occuring.\n",
    "\n",
    "# The peak-to-peak voltage on channel 1\n",
    "scope.write(\":MEAS:ITEM VPP,CHAN1\")\n",
    "\n",
    "# The peak-to-peak voltage on channel 2\n",
    "scope.write(\":MEAS:ITEM VPP,CHAN2\")\n",
    "\n",
    "# The difference in the time that the signal starts to rise between channel 2 \n",
    "# and channel 1. rise time chan 2 - rise time chan 1.\n",
    "# Why would this be important?\n",
    "scope.write(\":MEAS:ITEM RDEL,CHAN2,CHAN1\")\n",
    "\n",
    "# The next three lines set up arrays to hold values from each of the three measurements. \n",
    "# Array indexing in python starts at 0 and counts up from there. So a array with 10 elements \n",
    "# will start with [0] and go to [9]. We first need to figure out how many points we need.\n",
    "\n",
    "n = 10 # The number of points to measure per decade\n",
    "nd = 8 # Number of decades to measure\n",
    "npts = n*nd+1 # The number of points that will be measured \n",
    "\n",
    "# Each of these will be an array zeros that is \"npts\" long\n",
    "v1pp = np.zeros(npts) # peak-to-peak voltage channel 1 \n",
    "v2pp = np.zeros(npts) # peak-to-peak voltage channel 2\n",
    "rdel21 = np.zeros(npts) # the diference in the rise time between channels 2 and 1\n",
    "f = np.zeros(npts) # the frequencies we will be using\n",
    "\n",
    "# build the frequency array from 1 Hz to 3 MHz with 10 points per devade\n",
    "f[0] = 1.0 # This is a temp value. The actual value will be set in the while loop\n",
    "ii = 0 # This is the power of 10 for our initial decade.\n",
    "while f[ii]<3.0e6:\n",
    "    ii += 1\n",
    "    f[ii]=10**(ii/n)\n",
    "print(ii) # This is the actual number of data points to measure\n",
    "\n",
    "# The next few lines will record the three measurements\n",
    "for i in range(0,ii):\n",
    "    scope.write(\":RUN\")\n",
    "    \n",
    "    # set the frequency on the function generator using our array of frequencies\n",
    "    cmd = \":SOUR1:FREQ \" + str(f[i])\n",
    "    funcgen.write(cmd)\n",
    "    \n",
    "    # clear the scopes last measurement\n",
    "    scope.write(\":CLEAR\")\n",
    "    \n",
    "    # set the horizontal scale on the scope to make good time measurements\n",
    "    hscale_scope(scope,f[i]/2) #scale the horizontal axis\n",
    "    \n",
    "    # determine the value of the timebase used for this measurement\n",
    "    tb = float(scope.query(\":TIM:MAIN:SCAL?\"))\n",
    "    #tb = float(scope.read())\n",
    "    #print(tb)\n",
    "    \n",
    "    # Sleep for the amount of time it takes to make one complete measurement across the \n",
    "    # screen. This will get smaller as the frequency gets larger.\n",
    "    time.sleep(12*tb)\n",
    "\n",
    "    # Set the vertical scales for channels 1 & 2 to make the best voltage measurements.\n",
    "    vscale_scope(scope,\"CHAN1\",tb)\n",
    "    vscale_scope(scope,\"CHAN2\",tb)\n",
    "    \n",
    "    # Sleep for the amount of time it takes to make one complete measurement across the \n",
    "    # screen. This will get smaller as the frequency gets larger.\n",
    "    time.sleep(12*tb)\n",
    "\n",
    "    # stop collecting data on the scope to record the measurements\n",
    "    scope.write(\":STOP\")\n",
    "    \n",
    "    v2pp[i] = float(scope.query(\":MEAS:ITEM? VPP,CHAN2\"))\n",
    "    v1pp[i] = float(scope.query(\":MEAS:ITEM? VPP,CHAN1\"))\n",
    "    rdel21[i] = float(scope.query(\":MEAS:ITEM? RDEL,CHAN2,CHAN1\"))\n",
    "    print(\"%i, %2.1e, %3.2f, %3.2f, %5.2e\" %(i,f[i], v1pp[i],v2pp[i],rdel21[i]))\n"
   ]
  },
  {
   "cell_type": "code",
   "execution_count": 23,
   "id": "34a39fd7",
   "metadata": {},
   "outputs": [
    {
     "data": {
      "image/png": "[encoded data removed]",
      "text/plain": [
       "<Figure size 432x288 with 1 Axes>"
      ]
     },
     "metadata": {
      "needs_background": "light"
     },
     "output_type": "display_data"
    },
    {
     "data": {
      "image/png": "[encoded data removed]",
      "text/plain": [
       "<Figure size 432x288 with 1 Axes>"
      ]
     },
     "metadata": {
      "needs_background": "light"
     },
     "output_type": "display_data"
    }
   ],
   "source": [
    "# Use this cell to plot the data that was collected in the last cell.\n",
    "\n",
    "# Note that for a decibel measurement, you have to have some reference to measure against. \n",
    "# In this lab we are using the output signal at 1 kHz (make sure you know what element that\n",
    "# is in the channel 1 data array). In other labs we might be looking at the output signal\n",
    "# vs the input signal. You will need to adjust the next line of code accordingly.\n",
    "dBs = 20*np.log(v1pp[0:ii-1]/v2pp[0:ii-1])\n",
    "\n",
    "# Create a plot of the dB amplitudes in a semilog format\n",
    "plt.semilogx(f[0:ii-1],dBs[0:ii-1],'.')\n",
    "\n",
    "# label the x-axis\n",
    "plt.xlabel(\"f (Hz)\")\n",
    "\n",
    "# label the y-axis\n",
    "plt.ylabel(\"Amp (dB out rel in)\")\n",
    "\n",
    "# plot title\n",
    "plt.title(\"Frequency Responce of an R2R Ladder\")\n",
    "\n",
    "# display the plot now\n",
    "plt.show()\n",
    "\n",
    "# Complete a plot of the phase difference in degrees between the input and output \n",
    "# signals. Be sure to include all of the appropriate labels.\n",
    "\n",
    "phs21rising = rdel21*f\n",
    "plt.semilogx(f[0:ii-1],phs21rising[0:ii-1],'o')\n",
    "plt.show()"
   ]
  },
  {
   "cell_type": "code",
   "execution_count": 24,
   "id": "0bf561ab",
   "metadata": {},
   "outputs": [
    {
     "name": "stdout",
     "output_type": "stream",
     "text": [
      "Ended program ready to run again\n"
     ]
    }
   ],
   "source": [
    "# Run this cell to make sure to close down the connection with the USB ports correctly. \n",
    "# If this cell is not run. Communications may be disrupted.\n",
    "funcgen.close()\n",
    "scope.close()\n",
    "print('Ended program ready to run again')\n"
   ]
  },
  {
   "cell_type": "code",
   "execution_count": null,
   "id": "998e5cf8",
   "metadata": {},
   "outputs": [],
   "source": []
  }
 ],
 "metadata": {
  "kernelspec": {
   "display_name": "Python 3 (ipykernel)",
   "language": "python",
   "name": "python3"
  },
  "language_info": {
   "codemirror_mode": {
    "name": "ipython",
    "version": 3
   },
   "file_extension": ".py",
   "mimetype": "text/x-python",
   "name": "python",
   "nbconvert_exporter": "python",
   "pygments_lexer": "ipython3",
   "version": "3.9.7"
  }
 },
 "nbformat": 4,
 "nbformat_minor": 5
}
