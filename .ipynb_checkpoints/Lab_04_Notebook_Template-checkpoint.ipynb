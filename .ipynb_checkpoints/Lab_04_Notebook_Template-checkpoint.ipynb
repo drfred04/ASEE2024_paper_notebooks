{
 "cells": [
  {
   "cell_type": "markdown",
   "id": "b2d016d3",
   "metadata": {},
   "source": [
    "# Lab 04\n",
    "Goals: \n",
    "1)\tCharacterize the exponential response to step input voltage changes in RC and RL circuits.\n",
    "2)\tUnderstand the meaning of a “characteristic time”: τ = RC or τ = L/R.\n",
    "3)\tUnderstand two rules of thumb:  \n",
    "    a)\tOne cannot instantaneously change the voltage across a capacitor.  \n",
    "    b)\tOne cannot instantaneously change the current through an inductor. \n"
   ]
  },
  {
   "attachments": {
    "Fig-02.jpg": {
     "image/jpeg": "[encoded data removed]"
    }
   },
   "cell_type": "markdown",
   "id": "30874665",
   "metadata": {},
   "source": [
    "# 4.2 Preliminary Lab Questions\n",
    "The work in this section must be completed and signed off by an instructor before you start working\n",
    "on the lab. Do this work in your lab book.\n",
    "\n",
    "![Fig-02.jpg](attachment:Fig-02.jpg)"
   ]
  },
  {
   "cell_type": "markdown",
   "id": "8fa6e067",
   "metadata": {},
   "source": [
    "### 4.2.1\n",
    "What are the characteristic time constants of the circuits shown above? Take $R = 4.7 k\\Omega$, $C = 0.1 \\mu F$, $L = 1 mH$."
   ]
  },
  {
   "cell_type": "markdown",
   "id": "f3acb764",
   "metadata": {},
   "source": [
    "'''\n",
    "    Answer question 1 here. Be sure to show your work.\n",
    "'''\n"
   ]
  },
  {
   "cell_type": "markdown",
   "id": "7bfddb34",
   "metadata": {},
   "source": [
    "### 4.2.2\n",
    "Of what order are the differential equations that govern the behavior of the above circuits? (The order of a differential equation is the order of the highest derivative in the equation, e.g. $d^2i/dt^2$ is second order.)"
   ]
  },
  {
   "cell_type": "markdown",
   "id": "59a81c70",
   "metadata": {},
   "source": [
    "'''\n",
    "    Add your answer to question 2 here.\n",
    "'''\n",
    "\n"
   ]
  },
  {
   "cell_type": "markdown",
   "id": "c3314900",
   "metadata": {},
   "source": [
    "### 4.2.3\n",
    "After a long time, which element ($C$ or $R$), in the circuit on the left, will have a significant voltage across it? In the circuit on the right ($L$ or $R$)? What about at the instant the switches are closed?"
   ]
  },
  {
   "cell_type": "markdown",
   "id": "640bfc09",
   "metadata": {},
   "source": [
    "'''\n",
    "    Add your answer to question 3 here.\n",
    "'''\n",
    "\n"
   ]
  },
  {
   "cell_type": "code",
   "execution_count": 2,
   "id": "85fdb711",
   "metadata": {},
   "outputs": [
    {
     "name": "stdout",
     "output_type": "stream",
     "text": [
      "A list of all instruments attached to the USB ports\n",
      "('USB0::6833::1230::DS1ZC230300144::0::INSTR', 'USB0::6833::1602::DG1ZA224203424::0::INSTR')\n",
      " \n",
      "A list of the Rigol scopes attached to the USB ports\n",
      "['USB0::6833::1230::DS1ZC230300144::0::INSTR']\n",
      "A list of the Rigol function generators attached to the USB ports\n",
      "['USB0::6833::1602::DG1ZA224203424::0::INSTR']\n",
      "scope found\n"
     ]
    }
   ],
   "source": [
    "\"\"\"\n",
    "    This cell will setup the communictions between the computer and the oscilloscope.\n",
    "\"\"\"\n",
    "import pyvisa as visa  # This is python package that controls the usb communications\n",
    "import numpy as np # This package will allow you to build arrays of data points \n",
    "import time # This is sometimes necessary to pause the code to allow a command to complete on one of the instruments.\n",
    "import matplotlib.pyplot as plt # This allows you to plot data on graphs\n",
    "\n",
    "rm = visa.ResourceManager('@py') #use pyvisa as the backend and define a resource manager\n",
    "instruments = rm.list_resources() # get a list of instrument attached to the usb ports\n",
    "\n",
    "# print out all of the instruments attached\n",
    "print('A list of all instruments attached to the USB ports')\n",
    "print(instruments)\n",
    "print(' ')\n",
    "\n",
    "# filter this list for Rigol scopes\n",
    "Rigol_scopes = list(filter(lambda x: 'DS1' in x, instruments)) \n",
    "\n",
    "# filter this list for Rigol funtion generators\n",
    "Rigol_funcgen = list(filter(lambda x: 'DG1' in x, instruments)) \n",
    "\n",
    "# print out the list of Rigol scopes\n",
    "print('A list of the Rigol scopes attached to the USB ports')\n",
    "print(Rigol_scopes)\n",
    "\n",
    "# print out the list of Rigol funtion generators\n",
    "print('A list of the Rigol function generators attached to the USB ports')\n",
    "print(Rigol_funcgen)\n",
    "\n",
    "\n",
    "# Initialize the scope\n",
    "for i in range(np.shape(Rigol_scopes)[0]):\n",
    "    scope = rm.open_resource(Rigol_scopes[i], timeout=100000, chunk_size=1024000)\n",
    "    #scope.write(\":*RST\") # This is the command to set the instrument to factory default settings\n",
    "    print(\"scope found\")\n"
   ]
  },
  {
   "cell_type": "markdown",
   "id": "4221b605",
   "metadata": {},
   "source": [
    "The following cell contains code that can be used to download data from the oscilloscope. It will download 1200 data points that are shown on the screen.\n",
    "They will come across as one big string of ascii characters with the data points separated by commas. The first 11 characters (numers 0-10) are a header that we will not use. This data will be the voltage avalue at of each point in scientific notation.   \n",
    "  \n",
    "The code will separate the string into the individual data points and convert them into floating point numbers.  \n",
    "  \n",
    "In order to get the times recorded on the scope we will use the Preamble query. This will return the following 10 values\n",
    "- **format**: 0 (BYTE), 1 (WORD) or 2 (ASC).\n",
    "- **type**: 0 (NORMal), 1 (MAXimum) or 2 (RAW).\n",
    "- **points**: an integer between 1 and 12000000. After the memory depth option is\n",
    "installed, **points** is an integer between 1 and 24000000.\n",
    "- **count**: the number of averages in the average sample mode and 1 in other modes.\n",
    "- **xincrement**: the time difference between two neighboring points in the X direction.\n",
    "- **xorigin**: the start time of the waveform data in the X direction.\n",
    "- **xreference**: the ordinal location of the xorigin in the data set.\n",
    "- **yincrement**: the waveform increment in the Y direction.\n",
    "- **yorigin**: the ordinal offset relative to the \"Vertical Reference Position\" in the Y\n",
    "direction.\n",
    "- **yreference**: the ordonal reference position in the Y direction (always 127).\n",
    "\n",
    "You can use the **xincrement** and **xorigin** values to build an array of times associated with the downloaded voltage data."
   ]
  },
  {
   "cell_type": "code",
   "execution_count": 32,
   "id": "acdf303b",
   "metadata": {},
   "outputs": [
    {
     "name": "stdout",
     "output_type": "stream",
     "text": [
      "Number of data points =   1200\n",
      "Number of averages =      1\n",
      "Time between points = 2.00e-06 s\n",
      "Initial time = -1.64e-04 s\n",
      "Vertical step size =  0.04  V\n"
     ]
    },
    {
     "data": {
      "image/png": "[encoded data removed]",
      "text/plain": [
       "<Figure size 432x288 with 1 Axes>"
      ]
     },
     "metadata": {
      "needs_background": "light"
     },
     "output_type": "display_data"
    },
    {
     "name": "stdout",
     "output_type": "stream",
     "text": [
      "Data has been written to data_output.txt\n"
     ]
    }
   ],
   "source": [
    "'''\n",
    "    This cell will download data from the oscilloscope. It downloads just what is \n",
    "    1200 data points on the screen. The data comes across as one long string of\n",
    "    characters with each point separated by a comma. We will need to separate the \n",
    "    data point and turn the strings into numbers. \n",
    "    \n",
    "    The code below is an example of how to do that.\n",
    "'''\n",
    "\n",
    "# Tell the scope what channel you want data from this command sets\n",
    "# up channel 1\n",
    "scope.write(\":WAV:SOUR CHAN1\")\n",
    "\n",
    "# Tell the scope that you just want what is on the screen\n",
    "scope.write(\":WAV:MODE NORM\")\n",
    "\n",
    "# Tell the scope you want the data in ascii format\n",
    "scope.write(\":WAV:FORM ASC\")\n",
    "\n",
    "# Tell the scope to send the data and receive it\n",
    "vdata_string = scope.query(\":WAV:DATA?\")\n",
    "\n",
    "# Split the string up into individual numbers, remember the first \n",
    "# eleven characters are header information\n",
    "vdata_float = np.array(vdata_string[11:len(vdata_string)].split(\",\"))\n",
    "\n",
    "# Convert the data strings to the numbers they represent\n",
    "vdata_float = [float(item) for item in vdata_float]\n",
    "\n",
    "# Download the preamble for the current channel\n",
    "pream_dat = scope.query(\":WAV:PRE?\")\n",
    "# Strip the end line symbol from the end\n",
    "pream_dat = pream_dat.strip()\n",
    "# Split the information into the 11 values at the commas\n",
    "pream_dat = pream_dat.split(',')\n",
    "# Convert the data strings to floating point numbers\n",
    "float_pream_dat = [float(item) for item in pream_dat]\n",
    "\n",
    "\n",
    "print(\"Number of data points = %6d\" %(float_pream_dat[2]))\n",
    "print(\"Number of averages = %6d\" %(float_pream_dat[3]))\n",
    "print(\"Time between points = %6.2e s\" %(float_pream_dat[4]))\n",
    "print(\"Initial time = %6.2e s\" %(float_pream_dat[5]))\n",
    "print(\"Vertical step size = \",float_pream_dat[7],\" V\")\n",
    "\n",
    "\n",
    "# Plot the data recovered \n",
    "\n",
    "# create a time array\n",
    "t_start = float_pream_dat[5]\n",
    "t_stop = t_start + float_pream_dat[2]*float_pream_dat[4]\n",
    "t = np.linspace(t_start,t_stop,int(float_pream_dat[2]))\n",
    "\n",
    "plt.plot(t,vdata_float)\n",
    "plt.xlabel('time (s)')\n",
    "plt.ylabel('V_out (V)')\n",
    "plt.title(\"Time trace of charging capacitor\\n C = 325.8 nF  R = 987.8 ${\\Omega}$\")\n",
    "plt.show()\n",
    "\n",
    "# Save the data to a text file for later use.\n",
    "# Open the file in write mode\n",
    "with open('data_output.txt', 'w') as file:\n",
    "    # Include the preamble information\n",
    "    file.write(\"Preamble: 10 entries\\n\")\n",
    "    for item in float_pream_dat:\n",
    "        file.write(f\"{item}\\n\")\n",
    "    \n",
    "    file.write(\"Data: 1200 entries in volts\\n\")    \n",
    "    # Iterate over each item in the array\n",
    "    for item in vdata_float:\n",
    "        # Write each data point followed by a newline character\n",
    "        # Format the data to take into account the precision\n",
    "        # of this measurement as indicated by \n",
    "        file.write(f\"{item:3.2f}\\n\")\n",
    "print(\"Data has been written to data_output.txt\")\n"
   ]
  },
  {
   "cell_type": "code",
   "execution_count": null,
   "id": "f4eefd57",
   "metadata": {},
   "outputs": [],
   "source": []
  }
 ],
 "metadata": {
  "kernelspec": {
   "display_name": "Python 3 (ipykernel)",
   "language": "python",
   "name": "python3"
  },
  "language_info": {
   "codemirror_mode": {
    "name": "ipython",
    "version": 3
   },
   "file_extension": ".py",
   "mimetype": "text/x-python",
   "name": "python",
   "nbconvert_exporter": "python",
   "pygments_lexer": "ipython3",
   "version": "3.10.12"
  }
 },
 "nbformat": 4,
 "nbformat_minor": 5
}
