{
 "cells": [
  {
   "cell_type": "markdown",
   "id": "5b31761f",
   "metadata": {},
   "source": [
    "# Lab Notebook Template\n",
    "You will be using Jupyter Notebooks as your lab book for all activities in this class. You can use this platform to prepare for and execute each lab that we will complete. You can analyze all of the data you collect and prepare figures for lab reports in your lab notebook. Keep in mind that this is a record of all of the calculations and measurements that you make to complete the lab. This notebook should store all of your data and show **ALL** of your work here, even work that does not give you the correct answer. This file is a record of what you did and what the result was. *It is not a lab report.* You will take the relevant information from this document and use it to complete a much more concise lab report after you have finished with the measurements. \n",
    "\n",
    "It is appropriate to have the results of all of your measurements displayed here. If you are measuring the frequency response of a particular circuit, you would include all of the measurements in the form of a table here. This might include:  \n",
    "&emsp; &emsp; the frequency &emsp; the input amplitude &emsp; the output amplitude &emsp; the calculated gain  \n",
    "This is an example of what you might need displayed in your notebook file. You want to be careful to be sure that you don't overwrite data in this file. Depending on the number of points and how you are collecting the data, you might enter the results by hand or you might print out a variable array that results from an automated measurement. For the first few labs, you will need to enter in your results. At the end of each day, it is a good idea to save a static copy of this file to make sure that you have a good record of your efforts. We will discuss how to do this in class. \n",
    "\n",
    "This will be your first Lab Notebook. It will make a great template for the first three labs."
   ]
  },
  {
   "cell_type": "code",
   "execution_count": 1,
   "id": "ce3bdc2e",
   "metadata": {},
   "outputs": [],
   "source": [
    "'''\n",
    "   This should be your first executable cell. It should include all of the packages that you need\n",
    "   to import to complete the measurement. We will start with numpy and matplotlib.pyplot. We will \n",
    "   provide each with a short acronym to make it clear when we are using aspects of each of the \n",
    "   packages.\n",
    "   \n",
    "   If you are going to need more packages you should include them here. This will make clear what\n",
    "   you are using for the measuremet you are documenting.\n",
    "'''\n",
    "\n",
    "import numpy as np\n",
    "import matplotlib.pyplot as plt\n"
   ]
  },
  {
   "cell_type": "markdown",
   "id": "510016f3",
   "metadata": {},
   "source": [
    "## Lab 1.2 Pre-Questions\n",
    "Each of the labs has a set of pre-questions. You need to have aswered these before we start the lab. This notebook has all 4 of the Lab 1 questions already coded in. Some of these questions will require an analytical solution (see 1.2.2 and 1.2.3) while others want you to perform a calculation (see 1.2.1 and 1.2.4). Depending on the type of question you need to either simply \"*type*\" out or \"*code*\" an answer. As we go forward in the semester, you will need to include the questions from each lab and answer them in the appropriate manner.  \n",
    "  \n",
    "Answer the pre-lab questions in the next few cells. Keep in mind that these may be computations and the may analytical calculations. Use the appropriate type of cell for each."
   ]
  },
  {
   "cell_type": "markdown",
   "id": "dc0d5d2b",
   "metadata": {},
   "source": [
    "## 1.2.1\n",
    "Carefully plot the $I$ − $V$ curve of an ideal resistor of $R$ = 100 $\\Omega$ for voltage values between\n",
    "0 and 15 V . Be sure to label both axes and put the correct numerical values on them.  \n",
    "*This question want a graph. Create that in the next Code cell.*"
   ]
  },
  {
   "cell_type": "code",
   "execution_count": 2,
   "id": "4e47c189",
   "metadata": {},
   "outputs": [
    {
     "data": {
      "text/plain": [
       "'\\n   The code you use to answer the question in the previous cell should be entered in this cell. \\n'"
      ]
     },
     "execution_count": 2,
     "metadata": {},
     "output_type": "execute_result"
    }
   ],
   "source": [
    "'''\n",
    "   The code you use to answer the question in the previous cell should be entered in this cell. \n",
    "'''"
   ]
  },
  {
   "cell_type": "markdown",
   "id": "9ea25336",
   "metadata": {},
   "source": [
    "## 1.2.2\n",
    "Two resistors, $R_1$ and $R_2$ , are placed in series, what is the equivalent resistance of the\n",
    "two?  \n",
    "  \n",
    "  \n",
    "Answer: *put your answer here*\n"
   ]
  },
  {
   "cell_type": "markdown",
   "id": "9cca5f73",
   "metadata": {},
   "source": [
    "## 1.2.3\n",
    "Three resistors, $R_1$ , $R_2$ and $R_3$ , are placed in parallel. Sketch the circuit represented by\n",
    "this. What is the equivalent resistance of the three? Sketch the equivalent circuit. (You can draw your sketch on a piece of paper and take a picture of it. Transfer the picture to your computer and use Edit:Insert Image command to add it to this cell.)  \n",
    "\n",
    "Answer: *put your answer here*\n"
   ]
  },
  {
   "cell_type": "markdown",
   "id": "486795f9",
   "metadata": {},
   "source": [
    "## 1.2.4\n",
    "You have a perfect current source of $I$ = 1 A and connect it to a load, $R_L$. Draw the\n",
    "*I−V* curve of this device for voltages between 1 mV and 10 V.  \n",
    "*This question wants a graph. Create that in the next Code cell.*"
   ]
  },
  {
   "cell_type": "code",
   "execution_count": 3,
   "id": "7d2d0c06",
   "metadata": {},
   "outputs": [
    {
     "data": {
      "text/plain": [
       "'\\n   The code you use to answer the question in the previous cell should be entered in this cell. \\n'"
      ]
     },
     "execution_count": 3,
     "metadata": {},
     "output_type": "execute_result"
    }
   ],
   "source": [
    "'''\n",
    "   The code you use to answer the question in the previous cell should be entered in this cell. \n",
    "'''"
   ]
  },
  {
   "cell_type": "markdown",
   "id": "687f38bd",
   "metadata": {},
   "source": [
    "## Example of Data collection for I-V Curves\n",
    "\n",
    "This cell is an example of how you can display some of your data as text. You can also use a code cell. This is especially useful when you will have to produce a graph. \n",
    "\n",
    "### 1 k$\\Omega$ resistor\n",
    "$R_{act} = 0.978 k\\Omega$\n",
    "\n",
    "| Voltage (V) | Current (mA)| Resistance (k$\\Omega$)|\n",
    "| :--: | :--: | :--: |\n",
    "| 0.503 | 0.511 | 0.998 |\n",
    "|1.014 | 1.028 | 0.998 |\n",
    "| 1.528 | 1.549 | 0.998 |\n",
    "| 2.077 | 2.105 | 0.998 |\n",
    "| 2.498 | 2.531 | 0.998 |\n",
    "| 3.078 | 3.120 | 0.998 |\n",
    "| 4.132 | 4.190 | 0.998 |\n",
    "| 4.997 | 5.068 | 0.998 |\n",
    "| 7.491 | 7.604 | 0.998 |\n"
   ]
  },
  {
   "cell_type": "markdown",
   "id": "d81eebee",
   "metadata": {},
   "source": [
    "# Lab 1.4 Procedure\n",
    "\n",
    "Here is where you start recording all of your measurements. You will need to include all of the details of the measurements that you complete: circuit diagrams, actual values for each component, results of all measurments."
   ]
  },
  {
   "cell_type": "markdown",
   "id": "08e3ab08",
   "metadata": {},
   "source": [
    "## Lab 1.4.1 *I-V* (current-voltage) curves of passive circuit elements\n",
    "Here is where you need to enter the actual values of the elements you are studying:    \n",
    "- A 1k Ω resistor.\n",
    "- A 47 Ω resistor.\n",
    "- A 5.1 V “Zener diode”.\n",
    "- A “low-current LED” (red, green or yellow).\n",
    "- A “very-bright LED” (blue or violet).\n",
    "- light bulb (replace the 1kΩ resistor in Figure 1.2 with 100 Ω). Don’t go above about 10 V in this case."
   ]
  },
  {
   "cell_type": "code",
   "execution_count": 4,
   "id": "3b72ac04",
   "metadata": {
    "scrolled": true
   },
   "outputs": [
    {
     "data": {
      "image/png": "[encoded data removed]",
      "text/plain": [
       "<Figure size 432x288 with 1 Axes>"
      ]
     },
     "metadata": {
      "needs_background": "light"
     },
     "output_type": "display_data"
    }
   ],
   "source": [
    "'''\n",
    "   You can use this as the template result cell for these \n",
    "   measurements. You can build up the array of V and I measurements\n",
    "   that you use to create the I-V curve of interest. You can also \n",
    "   include comparison to \"expected\" behavior for a specific \n",
    "   element.\n",
    "   \n",
    "   You should have a separate cell for each measurement that you\n",
    "   make in this section.\n",
    "'''\n",
    "\n",
    "R_1 = 1000 # enter the actual value of the resistor you are using.\n",
    "\n",
    "V = [1, 2, 4, 9] # this will give you a list of the voltages you use here\n",
    "I = [3, 3, 6, 10] # this will give you a list of the currents you measure here\n",
    "\n",
    "'''\n",
    "   make a plot of I vs V\n",
    "   do not connect the dots of the data points\n",
    "   the '.' in the plot command puts a dot at each data point\n",
    "   \n",
    "   Label the axes and always include units in the label\n",
    "''' \n",
    "plt.plot(V,I,'.')\n",
    "plt.title('I-V curve for ELEMENT')\n",
    "plt.ylabel('Current (A)')\n",
    "plt.xlabel('Voltage (V)')\n",
    "plt.show()\n"
   ]
  },
  {
   "cell_type": "markdown",
   "id": "91269e19",
   "metadata": {},
   "source": [
    "### Additional Problems\n",
    "You should answer the Additional Problems here are the end of the lab. Often these problems will be pre-cursors to the next lab. \n",
    "\n"
   ]
  },
  {
   "cell_type": "markdown",
   "id": "2d58d54e",
   "metadata": {},
   "source": [
    "#### Additional Problem 1.5.2\n",
    "You measure the data in the table in Figure 11 for the I–V curve between the two output terminals of the black-box circuit shown in Figure 11. \n",
    "(a) Make an accurate sketch of the I–V curve for your data. \n",
    "(b) What is the open-circuit voltage between the two terminals? \n",
    "(c) What load resistance was used to measure the 10 V data point?"
   ]
  },
  {
   "cell_type": "code",
   "execution_count": 5,
   "id": "4bd10de7",
   "metadata": {},
   "outputs": [
    {
     "data": {
      "image/png": "[encoded data removed]",
      "text/plain": [
       "<Figure size 432x288 with 1 Axes>"
      ]
     },
     "metadata": {
      "needs_background": "light"
     },
     "output_type": "display_data"
    },
    {
     "name": "stdout",
     "output_type": "stream",
     "text": [
      "LinregressResult(slope=-0.9990181639666176, intercept=11.027736867943053, rvalue=-0.999918512336946, pvalue=0.008127257155098362, stderr=0.012754424208903582, intercept_stderr=0.08657050751274173)\n",
      "\n",
      "The straight line that best represents this data is:\n",
      "y = m * x + b where\n",
      "m = -1.00 +/- 0.01 mA/V\n",
      "and\n",
      "b = 11.03 +/- 0.09 mA\n"
     ]
    }
   ],
   "source": [
    "'''\n",
    "   (a)\n",
    "'''\n",
    "I = [10.0, 5.0, 1.0] # the current in mA\n",
    "V = [1.0, 6.1, 10.0] # the voltage in V\n",
    "\n",
    "plt.plot(V,I,'.')\n",
    "plt.title('I-V curve for additional problem 2')\n",
    "plt.xlabel('Voltage (V)')\n",
    "plt.ylabel('Current (mA)')\n",
    "plt.show()\n",
    "\n",
    "'''\n",
    "  You can use the following code to fit a striaght line\n",
    "  to the data that has been entered. You need to import a \n",
    "  stats package from scipy to do this. The linregress(x,y) \n",
    "  command will perform a least squares linear regression on\n",
    "  the data and report back out:\n",
    "  slope\n",
    "  y-intercept\n",
    "  R-value\n",
    "  P-value\n",
    "  stderr of the slope estimate\n",
    "  inercept_stderr of the intercept estimate\n",
    "'''\n",
    "import scipy.stats as linreg\n",
    "\n",
    "result = linreg.linregress(V,I)\n",
    "\n",
    "print(result)\n",
    "print('')\n",
    "\n",
    "print('The straight line that best represents this data is:')\n",
    "print('y = m * x + b where')\n",
    "print('m = %4.2f +/- %3.2f mA/V' %(result.slope, result.stderr))\n",
    "print('and')\n",
    "print('b = %4.2f +/- %3.2f mA' %(result.intercept, result.intercept_stderr))\n"
   ]
  },
  {
   "cell_type": "markdown",
   "id": "c4f23fe0",
   "metadata": {},
   "source": [
    "You can use the calculations above as a guide to answer the rest of the parts of this question."
   ]
  },
  {
   "cell_type": "code",
   "execution_count": null,
   "id": "df105831",
   "metadata": {},
   "outputs": [],
   "source": []
  }
 ],
 "metadata": {
  "kernelspec": {
   "display_name": "Python 3 (ipykernel)",
   "language": "python",
   "name": "python3"
  },
  "language_info": {
   "codemirror_mode": {
    "name": "ipython",
    "version": 3
   },
   "file_extension": ".py",
   "mimetype": "text/x-python",
   "name": "python",
   "nbconvert_exporter": "python",
   "pygments_lexer": "ipython3",
   "version": "3.10.12"
  }
 },
 "nbformat": 4,
 "nbformat_minor": 5
}
