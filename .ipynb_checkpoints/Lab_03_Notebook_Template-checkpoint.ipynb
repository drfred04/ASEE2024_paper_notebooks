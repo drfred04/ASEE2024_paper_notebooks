{
 "cells": [
  {
   "cell_type": "markdown",
   "id": "1d8e8972",
   "metadata": {},
   "source": [
    "# Lab 3 lab notebook\n",
    "We will revisit the oscilloscope and function generator. Using what we know from the 2nd lab, we will work with software to control both instruments remotely. This will allow for better documentation of measurements. It also provides a way to remove some of the tedium of a large measurement."
   ]
  },
  {
   "cell_type": "code",
   "execution_count": 1,
   "id": "e2185a94",
   "metadata": {},
   "outputs": [],
   "source": [
    "# This cell will import packages that we will need to run the scopes and collect and analyze data.\n",
    "\n",
    "import pyvisa as visa  # This is python package that controls the usb communications\n",
    "import numpy as np # This package will allow you to build arrays of data points \n",
    "import time # This is sometimes necessary to pause the code to allow a command to complete on one of the instruments.\n",
    "import matplotlib.pyplot as plt # This allows you to plot data on graphs\n",
    "from scale_scope import *"
   ]
  },
  {
   "cell_type": "markdown",
   "id": "7657060a",
   "metadata": {},
   "source": [
    "# Lab 03 Pre-Question\n",
    "The work in this section must be completed and signed off by an instructor before you start working\n",
    "on the lab. Do this work in your lab book."
   ]
  },
  {
   "cell_type": "markdown",
   "id": "f0ff5c83",
   "metadata": {},
   "source": [
    "## 3.2.1\n",
    "Determine the frequencies that you should use to produce a Bode plot of the frequency responce for a system from 1Hz to 3 MHz if there will be 10 points per decade. Use the cell following this one to complete the calculation and display the results."
   ]
  },
  {
   "cell_type": "code",
   "execution_count": 2,
   "id": "709252d8",
   "metadata": {},
   "outputs": [
    {
     "data": {
      "text/plain": [
       "'\\n    Question 1 calculations and displays\\n'"
      ]
     },
     "execution_count": 2,
     "metadata": {},
     "output_type": "execute_result"
    }
   ],
   "source": [
    "'''\n",
    "    Question 1 calculations and displays\n",
    "'''\n",
    "\n"
   ]
  },
  {
   "cell_type": "markdown",
   "id": "4af7d836",
   "metadata": {},
   "source": [
    "# 3.3.4\n",
    "Frequency Responce of an R2R Ladder"
   ]
  },
  {
   "cell_type": "code",
   "execution_count": 3,
   "id": "5bf567ee",
   "metadata": {},
   "outputs": [
    {
     "name": "stdout",
     "output_type": "stream",
     "text": [
      "A list of all instruments attached to the USB ports\n",
      "('USB0::6833::1230::DS1ZC230300144::0::INSTR', 'USB0::6833::1602::DG1ZA224203424::0::INSTR')\n",
      " \n",
      "A list of the Rigol scopes attached to the USB ports\n",
      "['USB0::6833::1230::DS1ZC230300144::0::INSTR']\n",
      "A list of the Rigol function generators attached to the USB ports\n",
      "['USB0::6833::1602::DG1ZA224203424::0::INSTR']\n"
     ]
    }
   ],
   "source": [
    "# This cell will initialize the control of the usb ports and indentify any scopes or function generators that\n",
    "# are attached.\n",
    "\n",
    "rm = visa.ResourceManager('@py') #use pyvisa as the backend and define a resource manager\n",
    "instruments = rm.list_resources() # get a list of instrument attached to the usb ports\n",
    "\n",
    "# print out all of the instruments attached\n",
    "print('A list of all instruments attached to the USB ports')\n",
    "print(instruments)\n",
    "print(' ')\n",
    "\n",
    "# filter this list for Rigol scopes\n",
    "Rigol_scopes = list(filter(lambda x: 'DS1' in x, instruments)) \n",
    "\n",
    "# filter this list for Rigol funtion generators\n",
    "Rigol_funcgen = list(filter(lambda x: 'DG1' in x, instruments)) \n",
    "\n",
    "# print out the list of Rigol scopes\n",
    "print('A list of the Rigol scopes attached to the USB ports')\n",
    "print(Rigol_scopes)\n",
    "\n",
    "# print out the list of Rigol funtion generators\n",
    "print('A list of the Rigol function generators attached to the USB ports')\n",
    "print(Rigol_funcgen)"
   ]
  },
  {
   "cell_type": "code",
   "execution_count": 4,
   "id": "591674b6",
   "metadata": {},
   "outputs": [
    {
     "name": "stdout",
     "output_type": "stream",
     "text": [
      "The number of scopes is:  1\n",
      "The number of fucntion generators is:  1\n",
      "scope found\n",
      "function generator found\n"
     ]
    }
   ],
   "source": [
    "'''\n",
    " This cell will initialize the scopes and function generators so that we can pass commands and \n",
    " receive data back from them. Each instrument is initially set to its factory settings as a precaution. \n",
    " We will later put in the specific settings that we want to use for our measurements. By starting from \n",
    " the factory settings, we can be sure that there are no settings left over from a previous user.\n",
    "'''\n",
    "print(\"The number of scopes is: \", np.shape(Rigol_scopes)[0])\n",
    "print(\"The number of fucntion generators is: \", np.shape(Rigol_funcgen)[0])\n",
    "\n",
    "# Initialize the scope\n",
    "for i in range(np.shape(Rigol_scopes)[0]):\n",
    "    scope = rm.open_resource(Rigol_scopes[i], timeout=100000, chunk_size=1024000)\n",
    "    scope.write(\":*RST\") # This is the command to set the instrument to factory default settings\n",
    "    print(\"scope found\")\n",
    "\n",
    "# Initialize the fucntion generator\n",
    "for i in range(np.shape(Rigol_funcgen)[0]):\n",
    "    funcgen = rm.open_resource(Rigol_funcgen[i], timeout=100000, chunk_size=1024000)\n",
    "    funcgen.write(\":*RST\") # This is the command to set the instrument to factory default settings\n",
    "    print(\"function generator found\")\n",
    "\n",
    "# give each instrument some time to reset before you go in and start changing parameters\n",
    "time.sleep(5) # Wait 5 seconds to continue"
   ]
  },
  {
   "cell_type": "code",
   "execution_count": 5,
   "id": "236ecde1",
   "metadata": {},
   "outputs": [
    {
     "data": {
      "text/plain": [
       "22"
      ]
     },
     "execution_count": 5,
     "metadata": {},
     "output_type": "execute_result"
    }
   ],
   "source": [
    "'''\n",
    " This cell will set the scope up to make the measurements that we are interested in. It will set the channel\n",
    " we are looking at as well as the timebase and scale of the channel.\n",
    "\n",
    " We need to use both channels 1 and 2. \n",
    "'''\n",
    "\n",
    "# Channel 1 will be setup with the following:\n",
    "scope.write(\":CHAN1:DISP ON\") # Turn on the display of channel 1\n",
    "scope.write(\":CHAN1:PROB 1\") # Set the probe to a x1 probe\n",
    "scope.write(\":CHAN1:COUP DC\") # set the couplong on channel 1 to DC\n",
    "scope.write(\":CHAN1:SCAL 0.2\") # Set the scale to 0.2 V per division (square)\n",
    "\n",
    "# Channel 2 will be setup with the following:\n",
    "scope.write(\":CHAN2:DISP ON\") # Turn on the display of channel 2\n",
    "scope.write(\":CHAN2:PROB 1\") # Set the probe to a x1 probe\n",
    "scope.write(\":CHAN2:COUP DC\") # Set the coupling on channel 2 to DC\n",
    "scope.write(\":CHAN2:SCAL 2.0\") # Set the scale to 2.0 V per division (square)\n",
    " \n",
    "# Set the specifics for triggering a measurement\n",
    "# The measurement will use the signal coming in on channel 2 to trigger the scope\n",
    "scope.write(\":TRIG:EDG:SOUR CHAN2\") \n",
    "# A measurement is triggered when the signal hits 1.0 V\n",
    "scope.write(\":TRIG:EDG:LEV 1.0\") \n",
    "# set the sweep to normal so the image is stable\n",
    "scope.write(\":TRIG:SWE NORM\") \n",
    "\n",
    "# Set the horizontal scale for the measurement to 1 ms/division\n",
    "scope.write(\":TIM:MAIN:SCAL 0.001\")"
   ]
  },
  {
   "cell_type": "code",
   "execution_count": 6,
   "id": "ede19c75",
   "metadata": {},
   "outputs": [
    {
     "data": {
      "text/plain": [
       "19"
      ]
     },
     "execution_count": 6,
     "metadata": {},
     "output_type": "execute_result"
    }
   ],
   "source": [
    "# This cell will set the parameters for the output signal produced by the function generator.\n",
    "\n",
    "# Set the output level of channel 1 to 10 V peak-to-peak (Vpp)\n",
    "funcgen.write(\":SOUR1:VOLT 10\") \n",
    "\n",
    "# Set the offset to +1.0 V\n",
    "funcgen.write(\":SOUR1:VOLT:OFFS 0.0\") \n",
    "\n",
    "# Turn on the output of channel 1 (Don't forget this step or nothing will happen)\n",
    "funcgen.write(\":OUTP1 ON\") \n",
    "\n",
    "# Set the frequency of the signal to 1500 Hz\n",
    "funcgen.write(\":SOUR1:FREQ 1.5E3\") "
   ]
  },
  {
   "cell_type": "code",
   "execution_count": 16,
   "id": "7aacdb90",
   "metadata": {},
   "outputs": [
    {
     "name": "stdout",
     "output_type": "stream",
     "text": [
      "1, 1.3e+00, 10.16, 10.16, 1.00e-02\n",
      "2, 1.6e+00, 10.16, 10.16, 2.00e-03\n",
      "3, 2.0e+00, 10.16, 10.16, 6.00e-03\n",
      "4, 2.5e+00, 10.08, 10.16, 1.00e-03\n",
      "5, 3.2e+00, 10.16, 10.16, 1.00e-03\n",
      "6, 4.0e+00, 10.08, 10.16, 1.00e-03\n",
      "7, 5.0e+00, 10.32, 10.16, 2.50e-03\n",
      "8, 6.3e+00, 10.24, 10.16, 5.00e-04\n",
      "9, 7.9e+00, 10.24, 10.16, 1.50e-03\n",
      "10, 1.0e+01, 10.16, 10.16, 1.00e-03\n",
      "11, 1.3e+01, 10.08, 10.16, 1.00e-03\n",
      "12, 1.6e+01, 10.16, 10.16, 6.00e-04\n",
      "13, 2.0e+01, 10.08, 10.16, 6.00e-04\n",
      "14, 2.5e+01, 10.24, 10.32, 5.00e-04\n",
      "15, 3.2e+01, 10.24, 10.16, 3.00e-04\n",
      "16, 4.0e+01, 10.24, 10.32, 7.00e-04\n",
      "17, 5.0e+01, 10.08, 10.16, 4.50e-04\n",
      "18, 6.3e+01, 10.08, 10.32, 4.50e-04\n",
      "19, 7.9e+01, 10.08, 10.32, 5.50e-04\n",
      "20, 1.0e+02, 9.84, 10.16, 5.50e-04\n",
      "21, 1.3e+02, 9.76, 10.00, 4.20e-04\n",
      "22, 1.6e+02, 9.44, 10.00, 3.40e-04\n",
      "23, 2.0e+02, 9.12, 10.00, 3.00e-04\n",
      "24, 2.5e+02, 8.72, 10.00, 3.10e-04\n",
      "25, 3.2e+02, 8.16, 10.00, 2.90e-04\n",
      "26, 4.0e+02, 7.44, 10.00, 2.50e-04\n",
      "27, 5.0e+02, 6.72, 9.92, 2.55e-04\n",
      "28, 6.3e+02, 5.88, 9.92, 2.25e-04\n",
      "29, 7.9e+02, 5.12, 9.92, 1.85e-04\n",
      "30, 1.0e+03, 4.36, 9.84, 1.65e-04\n",
      "31, 1.3e+03, 3.56, 9.84, 1.46e-04\n",
      "32, 1.6e+03, 2.92, 9.84, 1.26e-04\n",
      "33, 2.0e+03, 2.40, 9.84, 1.06e-04\n",
      "34, 2.5e+03, 1.94, 9.84, 8.50e-05\n",
      "35, 3.2e+03, 1.56, 9.84, 6.90e-05\n",
      "36, 4.0e+03, 1.27, 9.84, 5.70e-05\n",
      "37, 5.0e+03, 1.01, 9.84, 4.70e-05\n",
      "38, 6.3e+03, 0.83, 9.84, 3.65e-05\n",
      "39, 7.9e+03, 0.68, 9.84, 2.95e-05\n",
      "40, 1.0e+04, 0.52, 9.84, 2.42e-05\n",
      "41, 1.3e+04, 0.43, 9.84, 1.90e-05\n",
      "42, 1.6e+04, 0.33, 9.84, 1.58e-05\n",
      "43, 2.0e+04, 0.28, 9.84, 1.22e-05\n",
      "44, 2.5e+04, 0.22, 9.84, 9.90e-06\n",
      "45, 3.2e+04, 0.19, 9.84, 7.70e-06\n",
      "46, 4.0e+04, 0.14, 9.60, 5.50e-06\n",
      "47, 5.0e+04, 0.12, 9.68, 4.65e-06\n",
      "48, 6.3e+04, 0.11, 9.60, 4.45e-06\n",
      "49, 7.9e+04, 0.09, 9.68, 2.95e-06\n",
      "50, 1.0e+05, 0.08, 9.68, -8.35e-06\n",
      "51, 1.3e+05, 0.06, 9.84, 0.00e+00\n",
      "52, 1.6e+05, 98999999999999993426744560981400092672.00, 9.84, 1.32e-06\n",
      "52\n",
      "52, 1.6e+05, 98999999999999993426744560981400092672.00, 9.84, 1.20e-06\n",
      "52\n",
      "52, 1.6e+05, 98999999999999993426744560981400092672.00, 9.84, 1.46e-06\n",
      "52\n",
      "52, 1.6e+05, 0.06, 9.84, 1.42e-06\n",
      "53, 2.0e+05, 0.05, 9.84, 1.86e-06\n",
      "54, 2.5e+05, 0.05, 9.84, 6.90e-07\n",
      "55, 3.2e+05, 0.02, 9.84, 6.50e-07\n",
      "56, 4.0e+05, 0.02, 9.84, 3.50e-07\n",
      "57, 5.0e+05, 98999999999999993426744560981400092672.00, 9.84, 8.70e-07\n",
      "57\n",
      "57, 5.0e+05, 0.02, 9.68, 4.65e-07\n",
      "58, 6.3e+05, 0.01, 9.68, -3.95e-07\n",
      "59, 7.9e+05, 98999999999999993426744560981400092672.00, 9.68, -7.50e-08\n",
      "59\n",
      "59, 7.9e+05, 0.01, 9.84, -3.00e-07\n",
      "60, 1.0e+06, 0.01, 9.84, -5.00e-09\n",
      "61, 1.3e+06, 0.01, 9.84, -3.36e-07\n",
      "62, 1.6e+06, 0.01, 9.84, -1.92e-07\n",
      "63, 2.0e+06, 0.01, 9.84, 2.04e-07\n",
      "64, 2.5e+06, 0.02, 9.84, -2.60e-08\n",
      "65, 3.2e+06, 0.02, 10.00, -3.60e-08\n",
      "66, 4.0e+06, 0.03, 10.00, -3.00e-08\n",
      "67, 5.0e+06, 0.04, 10.32, -1.50e-08\n",
      "68, 6.3e+06, 0.06, 10.80, -9.00e-09\n",
      "69, 7.9e+06, 0.10, 11.44, -5.00e-09\n",
      "70, 1.0e+07, 0.18, 12.88, -2.00e-09\n"
     ]
    }
   ],
   "source": [
    "# This cell will make record measurements based on the signal produced by the fucntion generator.\n",
    "\n",
    "# Set the scope to display the 3 different measurments, Vmax, Vmin, frequency on the screen. This\n",
    "# does not record the measurement. It allows you to watch how things are going and possibly\n",
    "# spot any issues that may be occuring.\n",
    "\n",
    "# Show the peak-to-peak voltage on channel 1\n",
    "scope.write(\":MEAS:ITEM VPP,CHAN1\")\n",
    "\n",
    "# Show the peak-to-peak voltage on channel 2\n",
    "scope.write(\":MEAS:ITEM VPP,CHAN2\")\n",
    "\n",
    "# The difference in the time that the signal starts to rise between channel 2 \n",
    "# and channel 1. rise time chan 2 - rise time chan 1.\n",
    "# Why would this be important?\n",
    "scope.write(\":MEAS:ITEM RDEL,CHAN2,CHAN1\")\n",
    "\n",
    "# The next three lines set up arrays to hold values from each of the three measurements. \n",
    "# Array indexing in python starts at 0 and counts up from there. So a array with 10 elements \n",
    "# will start with [0] and go to [9]. We first need to figure out how many points we need.\n",
    "\n",
    "start_power = 0 # Start at 1 Hz (10^0)\n",
    "stop_power = 7 # Stop at 10 MHz (10^7)\n",
    "n = 10 # The number of points to measure per decade\n",
    "nd = stop_power - start_power # Number of decades to measure\n",
    "# The number of points that will be measured \n",
    "# The '+1' evenly spaces the points in each decade to land \n",
    "# nicely on the value of stop_power\n",
    "npts = n*nd+1 \n",
    "\n",
    "# Each of these will be an array zeros that is \"npts\" long\n",
    "v1pp = np.zeros(npts) # peak-to-peak voltage channel 1 \n",
    "v2pp = np.zeros(npts) # peak-to-peak voltage channel 2\n",
    "rdel21 = np.zeros(npts) # the diference in the rise time between channels 2 and 1\n",
    "f = np.logspace(start_power, stop_power, npts) # the frequencies we will be using\n",
    "\n",
    "# The next few lines will record the three measurements\n",
    "i = 0\n",
    "while i in range(0,npts-1):\n",
    "    i+=1\n",
    "    scope.write(\":RUN\")\n",
    "    \n",
    "    # set the frequency on the function generator using our array of frequencies\n",
    "    cmd = \":SOUR1:FREQ \" + str(f[i])\n",
    "    funcgen.write(cmd)\n",
    "    \n",
    "    # clear the scopes last measurement\n",
    "    scope.write(\":CLEAR\")\n",
    "    \n",
    "    # set the horizontal scale on the scope to make good time measurements\n",
    "    hscale_scope(scope,f[i]/2) #scale the horizontal axis\n",
    "    \n",
    "    # determine the value of the timebase used for this measurement\n",
    "    tb = float(scope.query(\":TIM:MAIN:SCAL?\"))\n",
    "    #tb = float(scope.read())\n",
    "    #print(tb)\n",
    "    \n",
    "    # Sleep for the amount of time it takes to make one complete measurement across the \n",
    "    # screen. This will get smaller as the frequency gets larger.\n",
    "    time.sleep(12*tb)\n",
    "\n",
    "    # Set the vertical scales for channels 1 & 2 to make the best voltage measurements.\n",
    "    vscale_scope(scope,\"CHAN1\",tb)\n",
    "    vscale_scope(scope,\"CHAN2\",tb)\n",
    "    \n",
    "    # Sleep for the amount of time it takes to make one complete measurement across the \n",
    "    # screen. This will get smaller as the frequency gets larger.\n",
    "    time.sleep(12*tb)\n",
    "\n",
    "    # stop collecting data on the scope to record the measurements\n",
    "    scope.write(\":STOP\")\n",
    "    \n",
    "    v2pp[i] = float(scope.query(\":MEAS:ITEM? VPP,CHAN2\"))\n",
    "    v1pp[i] = float(scope.query(\":MEAS:ITEM? VPP,CHAN1\"))\n",
    "    rdel21[i] = float(scope.query(\":MEAS:ITEM? RDEL,CHAN2,CHAN1\"))\n",
    "    print(\"%i, %2.1e, %3.2f, %3.2f, %5.2e\" %(i,f[i], v1pp[i],v2pp[i],rdel21[i]))\n",
    "    if v1pp[i]>100.0 or v2pp[i]>100.0:\n",
    "        # The scope returns vary large values when it cannot measure the \n",
    "        # peak-to-peak voltage. This often occurs when the scale is too\n",
    "        # small\n",
    "        print(i)\n",
    "        i-=1\n"
   ]
  },
  {
   "cell_type": "code",
   "execution_count": 17,
   "id": "34a39fd7",
   "metadata": {},
   "outputs": [
    {
     "name": "stderr",
     "output_type": "stream",
     "text": [
      "/tmp/ipykernel_13950/1868279474.py:7: RuntimeWarning: divide by zero encountered in log\n",
      "  dBs = 20*np.log(v1pp/v1pp[30])\n"
     ]
    },
    {
     "data": {
      "image/png": "[encoded data removed]",
      "text/plain": [
       "<Figure size 432x288 with 1 Axes>"
      ]
     },
     "metadata": {
      "needs_background": "light"
     },
     "output_type": "display_data"
    },
    {
     "data": {
      "image/png": "[encoded data removed]",
      "text/plain": [
       "<Figure size 432x288 with 1 Axes>"
      ]
     },
     "metadata": {
      "needs_background": "light"
     },
     "output_type": "display_data"
    }
   ],
   "source": [
    "# Use this cell to plot the data that was collected in the last cell.\n",
    "\n",
    "# Note that for a decibel measurement, you have to have some reference to measure against. \n",
    "# In this lab we are using the output signal at 1 kHz (make sure you know what element that\n",
    "# is in the channel 1 data array). In other labs we might be looking at the output signal\n",
    "# vs the input signal. You will need to adjust the next line of code accordingly.\n",
    "dBs = 20*np.log(v1pp/v1pp[30])\n",
    "\n",
    "# Create a plot of the dB amplitudes in a semilog format\n",
    "plt.semilogx(f,dBs,'.')\n",
    "\n",
    "# label the x-axis\n",
    "plt.xlabel(\"f (Hz)\")\n",
    "\n",
    "# label the y-axis\n",
    "plt.ylabel(\"Amp (dB rel 1kHz)\")\n",
    "\n",
    "# plot title\n",
    "plt.title(\"Frequency Responce of an R2R Ladder\")\n",
    "\n",
    "# display the plot now\n",
    "plt.show()\n",
    "\n",
    "# Complete a plot of the phase difference in degrees between the input and output \n",
    "# signals. Be sure to include all of the appropriate labels.\n",
    "\n",
    "phs21rising = rdel21*f\n",
    "plt.semilogx(f,phs21rising,'o')\n",
    "plt.show()"
   ]
  },
  {
   "cell_type": "code",
   "execution_count": 18,
   "id": "0bf561ab",
   "metadata": {},
   "outputs": [
    {
     "name": "stdout",
     "output_type": "stream",
     "text": [
      "Ended program ready to run again\n"
     ]
    }
   ],
   "source": [
    "# Run this cell to make sure to close down the connection with the USB ports correctly. \n",
    "# If this cell is not run. Communications may be disrupted.\n",
    "funcgen.close()\n",
    "scope.close()\n",
    "print('Ended program ready to run again')\n"
   ]
  },
  {
   "cell_type": "code",
   "execution_count": null,
   "id": "998e5cf8",
   "metadata": {},
   "outputs": [],
   "source": []
  }
 ],
 "metadata": {
  "kernelspec": {
   "display_name": "Python 3 (ipykernel)",
   "language": "python",
   "name": "python3"
  },
  "language_info": {
   "codemirror_mode": {
    "name": "ipython",
    "version": 3
   },
   "file_extension": ".py",
   "mimetype": "text/x-python",
   "name": "python",
   "nbconvert_exporter": "python",
   "pygments_lexer": "ipython3",
   "version": "3.10.12"
  }
 },
 "nbformat": 4,
 "nbformat_minor": 5
}
